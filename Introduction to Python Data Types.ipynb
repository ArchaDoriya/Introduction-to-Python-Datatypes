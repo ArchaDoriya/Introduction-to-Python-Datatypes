{
 "cells": [
  {
   "cell_type": "markdown",
   "metadata": {},
   "source": [
    "# Data Types\n",
    "The objective of this notebook is to walk through different sorts of datatypes that are built into python. In this notebook I will briefly describe both basic data types (int, float, string, decimal, complex and boolean) as well as collection data types such as list, tuple, dictionaries and sets. By the end of this tutorial, we will be familiar with what object of these types look like and how to represent them. \n",
    "\n",
    "**Source: Programming in Python 3- A Complete Introduction to the Python Language by Mark Summerfield**"
   ]
  },
  {
   "cell_type": "markdown",
   "metadata": {},
   "source": [
    "## Following are the basic data types buit into python \n",
    "\n",
    "  * **int**: integers or ints, are positive or negative whole numbers with no decimal point\n",
    "\n",
    "  * **float**: float represent real numbers and are written with a decimal point dividing the integer and fractional parts\n",
    "\n",
    "  * **string**:String is a sequence of Unicode characters\n",
    "\n",
    "  * **Decimal**:Decimal instances can be constructed from integrs, strings, floats, or tuples. Construction from an integer or a float performs an exact conversion of the value of that integer or float.Decimal numbers include special values such as NaN which stands for “Not a number”, positive and negative Infinity , and -0 \n",
    "\n",
    "  * **Complex**:The complex data type is an immutable type that holds a pair of floats, one representing the real part and the other the imaginary part of a complex number. Literal complex numbers are written with the real and imaginary parts joined by a (+) or (-) sign, and with the imaginary part followed by a j\n"
   ]
  },
  {
   "cell_type": "markdown",
   "metadata": {},
   "source": [
    "# Integer\n",
    "* int: integers or ints, are positive or negative whole numbers with no decimal point"
   ]
  },
  {
   "cell_type": "code",
   "execution_count": 88,
   "metadata": {},
   "outputs": [
    {
     "name": "stdout",
     "output_type": "stream",
     "text": [
      "0\n",
      "2\n"
     ]
    }
   ],
   "source": [
    "# when no argument is passed in int function it returns 0 as o/p\n",
    "print(int()) \n",
    "\n",
    "# Returns an integer value if a decimal argument is passed within int function\n",
    "print(int(2.5)) "
   ]
  },
  {
   "cell_type": "markdown",
   "metadata": {},
   "source": [
    "# Floats\n",
    " * Float: float types in pythons are designated to floating-point numbers. It represent real numbers and are written with a decimal point dividing the integer and fractional parts."
   ]
  },
  {
   "cell_type": "code",
   "execution_count": 89,
   "metadata": {},
   "outputs": [
    {
     "name": "stdout",
     "output_type": "stream",
     "text": [
      "0.0\n",
      "1.1\n"
     ]
    },
    {
     "data": {
      "text/plain": [
       "4.0"
      ]
     },
     "execution_count": 89,
     "metadata": {},
     "output_type": "execute_result"
    }
   ],
   "source": [
    "# when float function is used with no argument it return 0.0 as output\n",
    "print(float()) \n",
    "\n",
    "# when float function is used with decimal or floating point argument it produces copy of the argument as output\n",
    "print(float(1.1)) \n",
    "\n",
    "# Returns a float value if an integer argument is passed within float function.\n",
    "float(4)"
   ]
  },
  {
   "cell_type": "markdown",
   "metadata": {},
   "source": [
    "## MATH MODULE FUNCTIONS & CONSTANTS \n",
    "This module grants access to the mathematical functions that are applicable to all floating point numbers"
   ]
  },
  {
   "cell_type": "code",
   "execution_count": 90,
   "metadata": {},
   "outputs": [],
   "source": [
    "import math"
   ]
  },
  {
   "cell_type": "markdown",
   "metadata": {},
   "source": [
    "The following functions are provided by math module. Except when explicitly noted otherwise, all return values are floats."
   ]
  },
  {
   "cell_type": "markdown",
   "metadata": {},
   "source": [
    " * math.**floor**(x) : Returns ⎣x⎦ , i.e., the largest integer less than or equal to x as an int"
   ]
  },
  {
   "cell_type": "code",
   "execution_count": 91,
   "metadata": {},
   "outputs": [
    {
     "data": {
      "text/plain": [
       "3"
      ]
     },
     "execution_count": 91,
     "metadata": {},
     "output_type": "execute_result"
    }
   ],
   "source": [
    "# Example\n",
    "math.floor(3.66) # Returns the largest integer less than or equal to 3.66 as an int"
   ]
  },
  {
   "cell_type": "markdown",
   "metadata": {},
   "source": [
    "   * math.**ceil**(x) :Returns the ceiling of x , i.e., the smallest integer greater than or equal to x as an int"
   ]
  },
  {
   "cell_type": "code",
   "execution_count": 92,
   "metadata": {},
   "outputs": [
    {
     "name": "stdout",
     "output_type": "stream",
     "text": [
      "4\n"
     ]
    }
   ],
   "source": [
    "# Example: \n",
    "print(math.ceil(3.66)) # Returns the smallest integer greater than or equal to 3.66 as an int"
   ]
  },
  {
   "cell_type": "markdown",
   "metadata": {},
   "source": [
    " * math.**log10**(x) : Return the base-10 logarithm of x."
   ]
  },
  {
   "cell_type": "code",
   "execution_count": 93,
   "metadata": {},
   "outputs": [
    {
     "data": {
      "text/plain": [
       "0.6020599913279624"
      ]
     },
     "execution_count": 93,
     "metadata": {},
     "output_type": "execute_result"
    }
   ],
   "source": [
    "# Example\n",
    "math.log10(4) # Return the base-10 logarithm of 4"
   ]
  },
  {
   "cell_type": "markdown",
   "metadata": {},
   "source": [
    " * math.**log2**(x) : Return the base-2 logarithm of x."
   ]
  },
  {
   "cell_type": "code",
   "execution_count": 94,
   "metadata": {},
   "outputs": [
    {
     "data": {
      "text/plain": [
       "2.0"
      ]
     },
     "execution_count": 94,
     "metadata": {},
     "output_type": "execute_result"
    }
   ],
   "source": [
    "# Example\n",
    "math.log2(4) #Return the base-2 logarithm of 4"
   ]
  },
  {
   "cell_type": "markdown",
   "metadata": {},
   "source": [
    " * math.**fabs**(x) : Return the absolute value of x as a float"
   ]
  },
  {
   "cell_type": "code",
   "execution_count": 95,
   "metadata": {},
   "outputs": [
    {
     "data": {
      "text/plain": [
       "9.0"
      ]
     },
     "execution_count": 95,
     "metadata": {},
     "output_type": "execute_result"
    }
   ],
   "source": [
    "# Example\n",
    "math.fabs(-9) #Returns | -9 |, i.e., the absolute value of -9 as a float"
   ]
  },
  {
   "cell_type": "markdown",
   "metadata": {},
   "source": [
    " * math.**factorial**(x) :Return x factorial as an integer. Raises ValueError if x is not integral or is negative."
   ]
  },
  {
   "cell_type": "code",
   "execution_count": 96,
   "metadata": {},
   "outputs": [
    {
     "data": {
      "text/plain": [
       "24"
      ]
     },
     "execution_count": 96,
     "metadata": {},
     "output_type": "execute_result"
    }
   ],
   "source": [
    "# Example\n",
    "math.factorial(4) #Returns x! i.g. 1*2*3*4 = 24 (It returns product indicated by exclamation sign)"
   ]
  },
  {
   "cell_type": "markdown",
   "metadata": {},
   "source": [
    " * math.**fmod**(x, y) : Produces the modulus (remainder) of dividing x by y. It returns float type output"
   ]
  },
  {
   "cell_type": "code",
   "execution_count": 97,
   "metadata": {},
   "outputs": [
    {
     "data": {
      "text/plain": [
       "1.0"
      ]
     },
     "execution_count": 97,
     "metadata": {},
     "output_type": "execute_result"
    }
   ],
   "source": [
    "math.fmod(5, 2)#Produces the modulus (remainder) of dividing 5 by 2\n"
   ]
  },
  {
   "cell_type": "markdown",
   "metadata": {},
   "source": [
    " * math.**trunc**(x): Returns the whole part of x as an int; same as int(x)"
   ]
  },
  {
   "cell_type": "code",
   "execution_count": 98,
   "metadata": {},
   "outputs": [
    {
     "data": {
      "text/plain": [
       "4"
      ]
     },
     "execution_count": 98,
     "metadata": {},
     "output_type": "execute_result"
    }
   ],
   "source": [
    "math.trunc(4.5) #Returns the whole part of 4.5 as an int; same as int(x)\n"
   ]
  },
  {
   "cell_type": "markdown",
   "metadata": {},
   "source": [
    "# Complex \n",
    "   * It is an immutable data type which holds a pair of float one representing real part and other as an imaginary part of complex number."
   ]
  },
  {
   "cell_type": "code",
   "execution_count": 99,
   "metadata": {},
   "outputs": [
    {
     "data": {
      "text/plain": [
       "0j"
      ]
     },
     "execution_count": 99,
     "metadata": {},
     "output_type": "execute_result"
    }
   ],
   "source": [
    "# When no argument is passed within complex type function, it returns imaginary part as an output\n",
    "complex()"
   ]
  },
  {
   "cell_type": "code",
   "execution_count": 100,
   "metadata": {},
   "outputs": [
    {
     "data": {
      "text/plain": [
       "(1+0j)"
      ]
     },
     "execution_count": 100,
     "metadata": {},
     "output_type": "execute_result"
    }
   ],
   "source": [
    "complex(1)"
   ]
  },
  {
   "cell_type": "markdown",
   "metadata": {},
   "source": [
    "# Decimal\n",
    " * Decimal instances can be constructed from integrs, strings, floats, or tuples. Construction from an integer or a float performs an exact conversion of the value of that integer or float.Decimal numbers include special values such as NaN which stands for “Not a number”, positive and negative Infinity , and -0"
   ]
  },
  {
   "cell_type": "code",
   "execution_count": 101,
   "metadata": {},
   "outputs": [
    {
     "data": {
      "text/plain": [
       "Decimal('2.1')"
      ]
     },
     "execution_count": 101,
     "metadata": {},
     "output_type": "execute_result"
    }
   ],
   "source": [
    "# Decimal Datatype (Difference between Decimal & Float)\n",
    "import decimal\n",
    "\n",
    "#This function can take an integer or a string argument—but not a float, since floats are held inexactly whereas decimals are represented exactly.\n",
    "decimal.Decimal('2.1') "
   ]
  },
  {
   "cell_type": "code",
   "execution_count": 102,
   "metadata": {},
   "outputs": [
    {
     "data": {
      "text/plain": [
       "2.1"
      ]
     },
     "execution_count": 102,
     "metadata": {},
     "output_type": "execute_result"
    }
   ],
   "source": [
    "float(2.1)"
   ]
  },
  {
   "cell_type": "markdown",
   "metadata": {},
   "source": [
    "# String\n",
    " * Strings are represented by the immutable str data type which holds a sequence of Unicode characters. A string in Python can contain as many characters as we wish."
   ]
  },
  {
   "cell_type": "code",
   "execution_count": 103,
   "metadata": {},
   "outputs": [
    {
     "data": {
      "text/plain": [
       "''"
      ]
     },
     "execution_count": 103,
     "metadata": {},
     "output_type": "execute_result"
    }
   ],
   "source": [
    "#Generates an empty string when no argument is passed in the string function\n",
    "str() "
   ]
  },
  {
   "cell_type": "markdown",
   "metadata": {},
   "source": [
    " * Strings can be concatenated in two ways. One it can be concatenated by using (+) and secondly, it can be concatenated by passing strings in the parenthesis. "
   ]
  },
  {
   "cell_type": "code",
   "execution_count": 104,
   "metadata": {},
   "outputs": [
    {
     "name": "stdout",
     "output_type": "stream",
     "text": [
      "This is not the best way to join two long strings together since it relies on ugly newline escaping\n"
     ]
    }
   ],
   "source": [
    "# Ways to concatenate strings:\n",
    "\n",
    "#1)\n",
    "t = \"This is not the best way to join two long strings \" + \\\n",
    "\"together since it relies on ugly newline escaping\"\n",
    "print(t)"
   ]
  },
  {
   "cell_type": "code",
   "execution_count": 105,
   "metadata": {},
   "outputs": [
    {
     "name": "stdout",
     "output_type": "stream",
     "text": [
      "This is a better way to join two long strings together; it relies on string literal concatenation.\n"
     ]
    }
   ],
   "source": [
    "#2)\n",
    "s = (\"This is a better way to join two long strings \"\n",
    "\"together; it relies on string literal concatenation.\")\n",
    "print(s)"
   ]
  },
  {
   "cell_type": "markdown",
   "metadata": {},
   "source": [
    "# Slicing and Striding"
   ]
  },
  {
   "cell_type": "markdown",
   "metadata": {},
   "source": [
    "* Extarcting individual character from string is known as slicing\n",
    "* Index position in string goes from 0 to length of the string\n",
    "* It is also possible to use negative index positions which counts from the last character back toward the first. It starts from(-1) and gives the last character of the string\n",
    "* Accessing an out-of-range index (or any index in an empty string) will cause an IndexError exception to be raise\n",
    "\n",
    "- The slice operator has three syntaxes:\n",
    "  - seq[start] \n",
    "  - seq[start:end]\n",
    "  - seq[start:end:step]\n",
    "* Here (seq) could be a list, tuple or string"
   ]
  },
  {
   "cell_type": "markdown",
   "metadata": {},
   "source": [
    "* Following are the  few examples of slicing:"
   ]
  },
  {
   "cell_type": "code",
   "execution_count": 106,
   "metadata": {},
   "outputs": [
    {
     "data": {
      "text/plain": [
       "'L'"
      ]
     },
     "execution_count": 106,
     "metadata": {},
     "output_type": "execute_result"
    }
   ],
   "source": [
    "#seq[start] \n",
    "s= 'LIGHTNING AND THUNDERING'\n",
    "s[0]\n"
   ]
  },
  {
   "cell_type": "code",
   "execution_count": 107,
   "metadata": {},
   "outputs": [
    {
     "data": {
      "text/plain": [
       "'LIGHTNING AND THUNDERING'"
      ]
     },
     "execution_count": 107,
     "metadata": {},
     "output_type": "execute_result"
    }
   ],
   "source": [
    "#seq[start:end]\n",
    "s[:]  # This will return the len of the string ([:] Shows default start to end character)"
   ]
  },
  {
   "cell_type": "code",
   "execution_count": 108,
   "metadata": {},
   "outputs": [
    {
     "data": {
      "text/plain": [
       "'THUNDERING'"
      ]
     },
     "execution_count": 108,
     "metadata": {},
     "output_type": "execute_result"
    }
   ],
   "source": [
    "# extracting slice of characters from a string\n",
    "s[14:]"
   ]
  },
  {
   "cell_type": "code",
   "execution_count": 109,
   "metadata": {},
   "outputs": [
    {
     "data": {
      "text/plain": [
       "'AND'"
      ]
     },
     "execution_count": 109,
     "metadata": {},
     "output_type": "execute_result"
    }
   ],
   "source": [
    "s[10:13]"
   ]
  },
  {
   "cell_type": "code",
   "execution_count": 110,
   "metadata": {},
   "outputs": [
    {
     "data": {
      "text/plain": [
       "'LIGHTNING'"
      ]
     },
     "execution_count": 110,
     "metadata": {},
     "output_type": "execute_result"
    }
   ],
   "source": [
    "s[:9]"
   ]
  },
  {
   "cell_type": "markdown",
   "metadata": {},
   "source": [
    "## STRING STRIDING\n",
    "* Third number in a slice specifies the stride. \n",
    "* If omitted, the default is 1 and return every character in the requested range. \n",
    "* To return every kth letter, set the stride to k. Negative values of k reverse the string.\n",
    "\n",
    "**SYNTAX:** \n",
    "**seq[start:end:step]**"
   ]
  },
  {
   "cell_type": "code",
   "execution_count": 111,
   "metadata": {},
   "outputs": [
    {
     "data": {
      "text/plain": [
       "'GIENH N NNHI'"
      ]
     },
     "execution_count": 111,
     "metadata": {},
     "output_type": "execute_result"
    }
   ],
   "source": [
    "s= 'LIGHTNING AND THUNDERING'\n",
    "s[::-2] #starts at the last character and extracts every second character counting toward the start of the string"
   ]
  },
  {
   "cell_type": "code",
   "execution_count": 112,
   "metadata": {},
   "outputs": [
    {
     "data": {
      "text/plain": [
       "'LHI DHDI'"
      ]
     },
     "execution_count": 112,
     "metadata": {},
     "output_type": "execute_result"
    }
   ],
   "source": [
    "s[::3] #starts at the first character and extracts every third character counting toward the end."
   ]
  },
  {
   "cell_type": "markdown",
   "metadata": {},
   "source": [
    "## String Operators and Methods"
   ]
  },
  {
   "cell_type": "markdown",
   "metadata": {},
   "source": [
    " * S.**capitalize**(): Returns a copy of str s with the first letter capitalized"
   ]
  },
  {
   "cell_type": "code",
   "execution_count": 113,
   "metadata": {},
   "outputs": [
    {
     "data": {
      "text/plain": [
       "'Python is an easy to learn lanuage'"
      ]
     },
     "execution_count": 113,
     "metadata": {},
     "output_type": "execute_result"
    }
   ],
   "source": [
    "New = \"python is an easy to learn lanuage\" #Returns a copy of str NEW with the first letter capitalized\n",
    "New.capitalize()"
   ]
  },
  {
   "cell_type": "markdown",
   "metadata": {},
   "source": [
    "  * S.**title**(): Returns a copy of s where the first letter of each word is uppercased and all other letters are lowercased "
   ]
  },
  {
   "cell_type": "code",
   "execution_count": 114,
   "metadata": {},
   "outputs": [
    {
     "data": {
      "text/plain": [
       "'Python Is An Easy To Learn Lanuage'"
      ]
     },
     "execution_count": 114,
     "metadata": {},
     "output_type": "execute_result"
    }
   ],
   "source": [
    "New.title() # returns a copy of str NEW with the first letter capital of every word in the string"
   ]
  },
  {
   "cell_type": "markdown",
   "metadata": {},
   "source": [
    " * S.**count**(t,start, end): Returns the number of occurrences of str t in str s (or in the start:end slice of s)"
   ]
  },
  {
   "cell_type": "code",
   "execution_count": 115,
   "metadata": {},
   "outputs": [
    {
     "data": {
      "text/plain": [
       "5"
      ]
     },
     "execution_count": 115,
     "metadata": {},
     "output_type": "execute_result"
    }
   ],
   "source": [
    "#Syntax s.count(t,start, end)\n",
    "New.count('a', 0,) #Returns the number of occurrences of a in str NEW (or in the start:end slice of new)"
   ]
  },
  {
   "cell_type": "markdown",
   "metadata": {},
   "source": [
    "* s.**find**(t,start, end): # Resturns the leftmost positon of first argument in string s."
   ]
  },
  {
   "cell_type": "code",
   "execution_count": 116,
   "metadata": {},
   "outputs": [
    {
     "data": {
      "text/plain": [
       "13"
      ]
     },
     "execution_count": 116,
     "metadata": {},
     "output_type": "execute_result"
    }
   ],
   "source": [
    "# Examples-\n",
    "New = \"python is an easy to learn lanuage\"\n",
    "New.find('e',0,) # Resturns the leftmost positon of e in string New.\n",
    "New.index('e',0,) # Return the same resuts"
   ]
  },
  {
   "cell_type": "markdown",
   "metadata": {},
   "source": [
    "* s.**rfind**(t,start, end): # Returns the rightmost positon of first argument in string s"
   ]
  },
  {
   "cell_type": "code",
   "execution_count": 117,
   "metadata": {},
   "outputs": [
    {
     "data": {
      "text/plain": [
       "33"
      ]
     },
     "execution_count": 117,
     "metadata": {},
     "output_type": "execute_result"
    }
   ],
   "source": [
    "New.rfind('e',0,)  # Returns the rightmost postion of e in string New\n",
    "New.rindex('e',0,) # Return the same resuts"
   ]
  },
  {
   "cell_type": "markdown",
   "metadata": {},
   "source": [
    "* str.**isalnum**(): Return ture if string is non empty and every characters in the string is alpha numeric"
   ]
  },
  {
   "cell_type": "code",
   "execution_count": 118,
   "metadata": {},
   "outputs": [
    {
     "data": {
      "text/plain": [
       "True"
      ]
     },
     "execution_count": 118,
     "metadata": {},
     "output_type": "execute_result"
    }
   ],
   "source": [
    "# Example-\n",
    "A =  'abc1'\n",
    "A.isalnum() #  Returned ture because A holds an alphanumeric value"
   ]
  },
  {
   "cell_type": "markdown",
   "metadata": {},
   "source": [
    "* str.**isalpha**() : Returns True if str is nonempty and every character in str of alphabets"
   ]
  },
  {
   "cell_type": "code",
   "execution_count": 119,
   "metadata": {},
   "outputs": [
    {
     "data": {
      "text/plain": [
       "False"
      ]
     },
     "execution_count": 119,
     "metadata": {},
     "output_type": "execute_result"
    }
   ],
   "source": [
    "#Example-\n",
    "\n",
    "New = \"pythonisaneasytolearnlanuage1\"\n",
    "New.isalpha() #Returns True if str is nonempty and every character in str of alphabets"
   ]
  },
  {
   "cell_type": "code",
   "execution_count": 120,
   "metadata": {},
   "outputs": [
    {
     "data": {
      "text/plain": [
       "False"
      ]
     },
     "execution_count": 120,
     "metadata": {},
     "output_type": "execute_result"
    }
   ],
   "source": [
    "New = \"python is an easy to learn lanuage\"\n",
    "New.isalpha() # It returns false because string contains spaces"
   ]
  },
  {
   "cell_type": "markdown",
   "metadata": {},
   "source": [
    "* s.**isprintable**(): Returns True if s is empty or if every character in s is considered to be printable, including space, but not newline"
   ]
  },
  {
   "cell_type": "code",
   "execution_count": 121,
   "metadata": {},
   "outputs": [
    {
     "data": {
      "text/plain": [
       "True"
      ]
     },
     "execution_count": 121,
     "metadata": {},
     "output_type": "execute_result"
    }
   ],
   "source": [
    "# Example-\n",
    "New.isprintable() # Returns True if s is empty or if every character in s is considered to be printable, including space, but not newline"
   ]
  },
  {
   "cell_type": "markdown",
   "metadata": {},
   "source": [
    "* s.**upper**(): Return the entire copy of string in uppercase letters"
   ]
  },
  {
   "cell_type": "code",
   "execution_count": 122,
   "metadata": {},
   "outputs": [
    {
     "data": {
      "text/plain": [
       "'PYTHON IS AN EASY TO LEARN LANUAGE'"
      ]
     },
     "execution_count": 122,
     "metadata": {},
     "output_type": "execute_result"
    }
   ],
   "source": [
    "# Example-\n",
    "New.upper() # return the entire copy of string in uppercase letters"
   ]
  },
  {
   "cell_type": "markdown",
   "metadata": {},
   "source": [
    "* s.**lower**(): Return the entire copy of string in lowercase letters"
   ]
  },
  {
   "cell_type": "code",
   "execution_count": 123,
   "metadata": {},
   "outputs": [
    {
     "data": {
      "text/plain": [
       "'python is an easy to learn lanuage'"
      ]
     },
     "execution_count": 123,
     "metadata": {},
     "output_type": "execute_result"
    }
   ],
   "source": [
    "# Example-\n",
    "New.lower() # return the entire copy of string in lowercase letters"
   ]
  },
  {
   "cell_type": "markdown",
   "metadata": {},
   "source": [
    "* s.**replace**(t,u, n): Returns a copy of s with every (or a maximum of n if given) occurrences of str t replaced with str u"
   ]
  },
  {
   "cell_type": "code",
   "execution_count": 124,
   "metadata": {},
   "outputs": [
    {
     "data": {
      "text/plain": [
       "'python is an easy to learn lanuage'"
      ]
     },
     "execution_count": 124,
     "metadata": {},
     "output_type": "execute_result"
    }
   ],
   "source": [
    "#Example-\n",
    "New.replace('sql', 'python',)\n",
    "\n"
   ]
  },
  {
   "cell_type": "markdown",
   "metadata": {},
   "source": [
    "# Boolean\n",
    "* Boolean data type holds two values i.e- True or False \n",
    "* If boolean values are used in arithmetic operations, their integer values (1 and 0 for True and False) will be used to return an integer results\n",
    "* Follwing are the few examples of Boolean Data types."
   ]
  },
  {
   "cell_type": "code",
   "execution_count": 125,
   "metadata": {},
   "outputs": [
    {
     "data": {
      "text/plain": [
       "False"
      ]
     },
     "execution_count": 125,
     "metadata": {},
     "output_type": "execute_result"
    }
   ],
   "source": [
    "# If no argument is passed within boolean function it will return False \n",
    "bool()"
   ]
  },
  {
   "cell_type": "code",
   "execution_count": 126,
   "metadata": {},
   "outputs": [
    {
     "data": {
      "text/plain": [
       "True"
      ]
     },
     "execution_count": 126,
     "metadata": {},
     "output_type": "execute_result"
    }
   ],
   "source": [
    "bool(1)"
   ]
  },
  {
   "cell_type": "code",
   "execution_count": 127,
   "metadata": {},
   "outputs": [
    {
     "data": {
      "text/plain": [
       "2"
      ]
     },
     "execution_count": 127,
     "metadata": {},
     "output_type": "execute_result"
    }
   ],
   "source": [
    "#If boolean values are used in arithmetic operations, their integer values (1 and 0 for True and False) will be used to return an integer result:\n",
    "x= True\n",
    "y= False\n",
    "Z=1\n",
    "x+Z"
   ]
  },
  {
   "cell_type": "code",
   "execution_count": 128,
   "metadata": {},
   "outputs": [
    {
     "data": {
      "text/plain": [
       "1"
      ]
     },
     "execution_count": 128,
     "metadata": {},
     "output_type": "execute_result"
    }
   ],
   "source": [
    "x-y"
   ]
  },
  {
   "cell_type": "code",
   "execution_count": 129,
   "metadata": {},
   "outputs": [
    {
     "data": {
      "text/plain": [
       "0"
      ]
     },
     "execution_count": 129,
     "metadata": {},
     "output_type": "execute_result"
    }
   ],
   "source": [
    "x*y"
   ]
  },
  {
   "cell_type": "markdown",
   "metadata": {},
   "source": [
    "# Collection Data Types\n",
    "\n",
    "Till now we have learned about Python's most important fundamental data types. Now we will proceed by extending our programming options by learning  how to gather different data items together using collection data types. In this section we will cover sequence types such as lists, tuples, sets and mapping types such as dictionaries in depth. In addtition to this, we will also cover in detail the advanced features of these collection data type such as named tuples, list comprehensions, sets comprehensions, what are set methods and operators look like and etc. so here we go."
   ]
  },
  {
   "cell_type": "markdown",
   "metadata": {},
   "source": [
    "## Sequence Types\n"
   ]
  },
  {
   "cell_type": "markdown",
   "metadata": {},
   "source": [
    "## Tuples\n",
    "\n",
    "* It's an ordered sequence of zero or more object refrences.Tuples are immutable and are represented with parentheses.\n",
    "* It can be created with function tuple().\n",
    "* It possess similar indexing (zero indexing) as strings. The only difference is string has characters at every postion while tuple has object refrence at each position"
   ]
  },
  {
   "cell_type": "code",
   "execution_count": 130,
   "metadata": {},
   "outputs": [
    {
     "data": {
      "text/plain": [
       "('amber', 'green', 'blue')"
      ]
     },
     "execution_count": 130,
     "metadata": {},
     "output_type": "execute_result"
    }
   ],
   "source": [
    "# Let's extract the values from 2dn to -1th postion.\n",
    "eyes = (\"brown\", \"hazel\", \"amber\", \"green\", \"blue\", \"gray\") \n",
    "eyes[2:-1]"
   ]
  },
  {
   "cell_type": "markdown",
   "metadata": {},
   "source": [
    "Below is an example of nested two tuples inside another tuple. Nested collections to any level of depth can be created like this without any difficulty or formality. The slice operator [] can be applied to slice, with as many used as necessary. \n",
    "\n",
    "Let's work on this example piece by piece, starting with objects[2] which gives us the third item in the tuple (since the first item has index 0), which is itself a tuple,(\"nuts\", (9, \"Apple\"), \"xyz\"). The expression objects[2][1] gives us the second item in the objects[2] tuple, which is again a tuple, (9, \"Apple\"). And\n",
    "objects[2][1][1] gives us the second item in this tuple, which is the string \"Apple\".\n",
    "Lastly, objects[2][1][1][2] gives us the third item (character) in the string, that\n",
    "is, \"p\". "
   ]
  },
  {
   "cell_type": "code",
   "execution_count": 131,
   "metadata": {},
   "outputs": [
    {
     "data": {
      "text/plain": [
       "'p'"
      ]
     },
     "execution_count": 131,
     "metadata": {},
     "output_type": "execute_result"
    }
   ],
   "source": [
    "objects = (3, -10.5, (\"nuts\", (9, \"Apple\"), \"xyz\"))\n",
    "objects[2][1][1][2] "
   ]
  },
  {
   "cell_type": "markdown",
   "metadata": {},
   "source": [
    "# Named Tuples"
   ]
  },
  {
   "cell_type": "markdown",
   "metadata": {},
   "source": [
    "Named tuple functions like normal tuple data type. What it adds is the ability to refer items in the tuple by name as well as index positons and this allows us to create aggregates of data items."
   ]
  },
  {
   "cell_type": "markdown",
   "metadata": {},
   "source": [
    "## Example1(Sales)\n",
    "* The **collections** module provides the **namedtuple()** function. This function is used to create custom tuple data types.\n",
    "* The first argument to collections.namedtuple() is the name of the custom tuple data type that we want to be created. \n",
    "* The second argument is a string of space separated names, one for each item that our custom tuples will take. \n",
    "* The first argument, and the names in the second argument, must all be valid Python identifiers.\n",
    "* The function returns a custom class (data type) that can be used to create named tuples"
   ]
  },
  {
   "cell_type": "markdown",
   "metadata": {},
   "source": [
    "In this example we have created a list of two Sale items, that is, of two custom tuples. We\n",
    "can refer to items in the tuples using index positions—for example, the price of\n",
    "the first sale item is sales[0][-1] (i.e., 7.99)—but we can also use names, which\n",
    "makes things easy to refer. Then we will loop through all the items in sales list to get the total price of quantities."
   ]
  },
  {
   "cell_type": "code",
   "execution_count": 132,
   "metadata": {},
   "outputs": [
    {
     "name": "stdout",
     "output_type": "stream",
     "text": [
      "<class 'type'>\n",
      "[Sale(productid=432, customerid=921, date='2008-09-14', quantity=3, price=7.99), Sale(productid=419, customerid=874, date='2008-09-15', quantity=1, price=18.49)]\n",
      "Total $23.97\n",
      "23.97\n",
      "Total ${0:.2f}\n",
      "Total $42.46\n",
      "42.46\n",
      "Total ${0:.2f}\n"
     ]
    }
   ],
   "source": [
    "import collections\n",
    "Sale = collections.namedtuple(\"Sale\",\"productid customerid date quantity price\")\n",
    "print(type(Sale))\n",
    "sales = []\n",
    "sales.append(Sale(432, 921, \"2008-09-14\", 3, 7.99))\n",
    "sales.append(Sale(419, 874, \"2008-09-15\", 1, 18.49))\n",
    "print(sales)\n",
    "total = 0\n",
    "for i in sales:\n",
    "    total += i.quantity * i.price\n",
    "    print(\"Total ${0:.2f}\".format(total))\n",
    "    print(round(total,2))\n",
    "    print(\"Total ${0:.2f}\")"
   ]
  },
  {
   "cell_type": "markdown",
   "metadata": {},
   "source": [
    "## Example2 (Student Marks)"
   ]
  },
  {
   "cell_type": "markdown",
   "metadata": {},
   "source": [
    "* The first argument to collections.namedtuple() is the name of the custom tuple data type that we want to be created. \n",
    "* The second argument is a string of spaceseparated names, one for each item that our custom tuples will take. \n",
    "* The first argument, and the names in the second argument, must all be valid Python identifiers.\n",
    "* The function returns a custom class (data type) that can be used to create named tuples\n",
    "\n"
   ]
  },
  {
   "cell_type": "code",
   "execution_count": 133,
   "metadata": {},
   "outputs": [
    {
     "name": "stdout",
     "output_type": "stream",
     "text": [
      "[Student_marks(name='James', english=50, maths=60, science=75), Student_marks(name='Maria', english=60, maths=90, science=67), Student_marks(name='Stuart', english=80, maths=80, science=80)]\n"
     ]
    }
   ],
   "source": [
    "# Assignemd names to refer items in the stuents list\n",
    "Student_marks= collections.namedtuple(\"Student_marks\", \"name english maths science\") \n",
    "Student_list= [] \n",
    "\n",
    "Student_list.append(Student_marks(\"James\",50,60,75))\n",
    "Student_list.append(Student_marks(\"Maria\", 60,90,67))\n",
    "Student_list.append(Student_marks(\"Stuart\",80,80,80))\n",
    "print(Student_list)"
   ]
  },
  {
   "cell_type": "code",
   "execution_count": 134,
   "metadata": {},
   "outputs": [
    {
     "name": "stdout",
     "output_type": "stream",
     "text": [
      "185\n",
      "402\n",
      "642\n"
     ]
    }
   ],
   "source": [
    "total_marks =0 \n",
    "for i in Student_list:\n",
    "    total_marks += (i.english + i.maths + i.science)\n",
    "    print(round(total_marks))\n",
    "    "
   ]
  },
  {
   "cell_type": "markdown",
   "metadata": {},
   "source": [
    "# Lists"
   ]
  },
  {
   "cell_type": "markdown",
   "metadata": {},
   "source": [
    "* It is an ordered sequence of zeros or more object refrence. \n",
    "* It allows same slicing and striding syntax as strings and tuples.\n",
    "* Unlike strings and tuples list are mutable. It allows us to add, delete, replace, and the modify the items present in th list.\n",
    "* We can use list() function to create a list. Also it allows conversion of different datatypes to list.\n",
    "* List can also be created without calling list() function, just by passing comma separeted values in [].\n",
    "* It has ability to hold all kind of data type[int,\"string\", float] including collection data types such as lists and tuples.\n"
   ]
  },
  {
   "cell_type": "markdown",
   "metadata": {},
   "source": [
    "Let's see few example of list sclicing"
   ]
  },
  {
   "cell_type": "code",
   "execution_count": 135,
   "metadata": {},
   "outputs": [
    {
     "data": {
      "text/plain": [
       "-17.5"
      ]
     },
     "execution_count": 135,
     "metadata": {},
     "output_type": "execute_result"
    }
   ],
   "source": [
    "#Example:\n",
    "L = [-17.5, \"kilo\", 49, \"V\", [\"ram\", 5, \"echo\"], 7]\n",
    "# using slicing operator:\n",
    "L[0] # Returns the item present at the zeroth index postion "
   ]
  },
  {
   "cell_type": "code",
   "execution_count": 136,
   "metadata": {},
   "outputs": [
    {
     "data": {
      "text/plain": [
       "False"
      ]
     },
     "execution_count": 136,
     "metadata": {},
     "output_type": "execute_result"
    }
   ],
   "source": [
    "L[0]==L[-6]== 49 # It returns false L[0] and L[-6] doesn't hold the value equal to 49. \n"
   ]
  },
  {
   "cell_type": "code",
   "execution_count": 137,
   "metadata": {},
   "outputs": [
    {
     "data": {
      "text/plain": [
       "True"
      ]
     },
     "execution_count": 137,
     "metadata": {},
     "output_type": "execute_result"
    }
   ],
   "source": [
    "L[1]== L[-5]== \"kilo\"  # item kilo hold the same idex position as L[1] and [-5]"
   ]
  },
  {
   "cell_type": "markdown",
   "metadata": {},
   "source": [
    "* Although we can use the slice operator to access items in a list, in some situations we want to take two or more pieces of a list in one go.\n",
    "* This can be done by sequence unpacking operator * (asterisk). Any iterable (list & tuple) can be unpacked using \n",
    "* When used with two or more variables on the left-hand side of an assignment,one of which is preceded by (*),items are assigned to the variables, with all those left over assigned to the starred variable. "
   ]
  },
  {
   "cell_type": "code",
   "execution_count": 138,
   "metadata": {},
   "outputs": [
    {
     "name": "stdout",
     "output_type": "stream",
     "text": [
      "1 [2, 3, 4, 5, 6]\n"
     ]
    }
   ],
   "source": [
    "#Here are some examples:\n",
    "A, *B= [1,2,3,4,5,6] # Sequence unpacking using *\n",
    "print(A,B)"
   ]
  },
  {
   "cell_type": "code",
   "execution_count": 139,
   "metadata": {},
   "outputs": [
    {
     "name": "stdout",
     "output_type": "stream",
     "text": [
      "Charles ['Philip', 'Arthur', 'George'] Windsor\n"
     ]
    }
   ],
   "source": [
    "#Split a string into a list where each word is a list item\n",
    "first, *mid, last = \"Charles Philip Arthur George Windsor\".split() \n",
    "print(first,mid,last)"
   ]
  },
  {
   "cell_type": "markdown",
   "metadata": {},
   "source": [
    "## List Methods"
   ]
  },
  {
   "cell_type": "markdown",
   "metadata": {},
   "source": [
    " * L.**append**(x) : Appends item x to the end of list L"
   ]
  },
  {
   "cell_type": "code",
   "execution_count": 140,
   "metadata": {},
   "outputs": [
    {
     "name": "stdout",
     "output_type": "stream",
     "text": [
      "[1, 3, 4, 5, 6, 7, 'toy']\n"
     ]
    }
   ],
   "source": [
    "# Example-\n",
    "L=[1,3,4,5,6,7,]\n",
    "x= \"toy\"\n",
    "L.append(x)\n",
    "print(L)"
   ]
  },
  {
   "cell_type": "markdown",
   "metadata": {},
   "source": [
    " * L.**count**(x): Returns the number of times item x occurs in list L"
   ]
  },
  {
   "cell_type": "code",
   "execution_count": 141,
   "metadata": {},
   "outputs": [
    {
     "name": "stdout",
     "output_type": "stream",
     "text": [
      "4\n"
     ]
    }
   ],
   "source": [
    "# Example-\n",
    "list1 = [1, 1, 1, 2, 3, 2, 1]  \n",
    "print(list1.count(1))  "
   ]
  },
  {
   "cell_type": "markdown",
   "metadata": {},
   "source": [
    " * L.**index**(x,start,end): #Returns the index position of the leftmost occurrence of item x in list L"
   ]
  },
  {
   "cell_type": "code",
   "execution_count": 142,
   "metadata": {},
   "outputs": [
    {
     "data": {
      "text/plain": [
       "3"
      ]
     },
     "execution_count": 142,
     "metadata": {},
     "output_type": "execute_result"
    }
   ],
   "source": [
    "#Example-\n",
    "list1 = [1, 1, 1, 2, 3, 2, 1]  \n",
    "list1.index(2,3,6)"
   ]
  },
  {
   "cell_type": "markdown",
   "metadata": {},
   "source": [
    " * L.**insert**(i, x): It will insert the new item at the mentioned index positon. in this case i=4 and x= 10."
   ]
  },
  {
   "cell_type": "code",
   "execution_count": 143,
   "metadata": {},
   "outputs": [
    {
     "name": "stdout",
     "output_type": "stream",
     "text": [
      "[1, 2, 3, 2, 4, 5, 6, 7]\n"
     ]
    }
   ],
   "source": [
    "# Example-\n",
    "list1 = [ 1, 2, 3, 4, 5, 6, 7 ]\n",
    "list1.insert(3, 2)\n",
    "print(list1)"
   ]
  },
  {
   "cell_type": "markdown",
   "metadata": {},
   "source": [
    " * L.**pop**():  It removes the right most item of the list"
   ]
  },
  {
   "cell_type": "code",
   "execution_count": 144,
   "metadata": {},
   "outputs": [
    {
     "name": "stdout",
     "output_type": "stream",
     "text": [
      "[1, 2, 3, 4, 5, 6, 7]\n"
     ]
    }
   ],
   "source": [
    "#Example-\n",
    "list1 = [ 1, 2, 3, 4, 5, 6, 7,8 ]\n",
    "list1.pop() \n",
    "print(list1)"
   ]
  },
  {
   "cell_type": "markdown",
   "metadata": {},
   "source": [
    " * L.**pop**(i): It removes the item from the list at the position index. In this case i=2 "
   ]
  },
  {
   "cell_type": "code",
   "execution_count": 145,
   "metadata": {},
   "outputs": [
    {
     "name": "stdout",
     "output_type": "stream",
     "text": [
      "[1, 2, 4, 5, 6, 7]\n"
     ]
    }
   ],
   "source": [
    "#Example-\n",
    "list1 = [ 1, 2, 3, 4, 5, 6, 7 ]\n",
    "list1.pop(2) \n",
    "print(list1)"
   ]
  },
  {
   "cell_type": "markdown",
   "metadata": {},
   "source": [
    " * L.**remove**(x): Removes the leftmost occurrence of item x from list L"
   ]
  },
  {
   "cell_type": "code",
   "execution_count": 146,
   "metadata": {},
   "outputs": [
    {
     "name": "stdout",
     "output_type": "stream",
     "text": [
      "[1, 2, 3, 4, 5, 6, 7]\n"
     ]
    }
   ],
   "source": [
    "#Example-\n",
    "list1 = [ 1,1, 2, 3, 4, 5, 6, 7 ]\n",
    "list1.remove(1)\n",
    "print(list1)"
   ]
  },
  {
   "cell_type": "markdown",
   "metadata": {},
   "source": [
    " * L.**reverse**(): Reverse the order of items i the list"
   ]
  },
  {
   "cell_type": "code",
   "execution_count": 147,
   "metadata": {},
   "outputs": [
    {
     "name": "stdout",
     "output_type": "stream",
     "text": [
      "[7, 6, 5, 4, 3, 2, 1, 1]\n"
     ]
    }
   ],
   "source": [
    "#Example\n",
    "list1 = [ 1,1, 2, 3, 4, 5, 6, 7 ]\n",
    "list1.reverse()\n",
    "print(list1)"
   ]
  },
  {
   "cell_type": "markdown",
   "metadata": {},
   "source": [
    " * L.**sort**(): By default it sorts the list in the ascending order. To sort the list in descending order give (reverse=True) as argument"
   ]
  },
  {
   "cell_type": "code",
   "execution_count": 148,
   "metadata": {},
   "outputs": [
    {
     "name": "stdout",
     "output_type": "stream",
     "text": [
      "[1, 2, 3, 4, 5, 6, 7, 10]\n",
      "[10, 7, 6, 5, 4, 3, 2, 1]\n"
     ]
    }
   ],
   "source": [
    "list2 = [ 10,1, 2, 3, 4, 5, 6, 7 ]\n",
    "list2.sort()\n",
    "print(list2)\n",
    "\n",
    "# to sort list in descending order give (reverse=True) as argument\n",
    "list2.sort(reverse=True)\n",
    "print(list2)"
   ]
  },
  {
   "cell_type": "markdown",
   "metadata": {},
   "source": [
    "## List Comprehensions\n"
   ]
  },
  {
   "cell_type": "markdown",
   "metadata": {},
   "source": [
    "It consist of brackets containing the expression, which is executed for each element along with the for loop to iterate over each element and where condition can filter out unwanted items. This is a better way of looping items in the list.\n",
    "\n",
    "**Syntax:** \n",
    "\n",
    "    [expression for item in iterable]\n",
    "    [expression for item in iterable if condition]"
   ]
  },
  {
   "cell_type": "code",
   "execution_count": 149,
   "metadata": {},
   "outputs": [
    {
     "name": "stdout",
     "output_type": "stream",
     "text": [
      "[[186, 400, 8.8], [182, 350, 8.6], [165, 300, 7.6], [159, 270, 7.4], [171, 325, 8.0], [195, 450, 9.4], [180, 320, 7.8], [182, 350, 8.0], [164, 275, 7.4], [176, 375, 8.4], [186, 425, 8.6]]\n"
     ]
    }
   ],
   "source": [
    "# EXAMPLE1:\n",
    "\n",
    "# Adding 5 to each element using list comprehension:\n",
    "Z = [[181, 80, 44], [177, 70, 43], [160, 60, 38], [154, 54, 37], [166, 65, 40],\n",
    "     [190, 90, 47], [175, 64, 39],\n",
    "     [177, 70, 40], [159, 55, 37], [171, 75, 42], [181, 85,43]]\n",
    "# This loop will iterate over every sublist in Z and will add 5 to the sublist's element present at 0th, 1st and 2nd postion in the list Z)\n",
    "# Z is an iterable\n",
    "# i is an iterator\n",
    "\n",
    "res = [[i[0]+5, i[1]*5, i[2]/5] for i in Z] \n",
    "print(res)\n"
   ]
  },
  {
   "cell_type": "code",
   "execution_count": 150,
   "metadata": {},
   "outputs": [
    {
     "name": "stdout",
     "output_type": "stream",
     "text": [
      "[0, 6, 12, 18, 24, 30, 36, 42, 48]\n"
     ]
    }
   ],
   "source": [
    "# EXAMPLE2:\n",
    "\n",
    "# Get the list of all numbers divisible by 2 and 3 in the range of 50\n",
    "\n",
    "# this loop wil iterate over iterables (range(50)) and will return the list of numbers that are divisible by 2 and 3\n",
    "Res = [i for i in range(50) if i%2==0 and  i%3==0]\n",
    "print(Res)\n"
   ]
  },
  {
   "cell_type": "markdown",
   "metadata": {},
   "source": [
    "# Set Types"
   ]
  },
  {
   "cell_type": "markdown",
   "metadata": {},
   "source": [
    "Python provides two built-in set types: the mutable set type and the immutable frozenset. When iterated, set types provide their items in an arbitrary order. Only hashable objects may be added to a set. Hashable objects are objects which have a __hash__() special method whose return value is always the same throughout the object’s lifetime, and which can be compared for equality using the __eq__() special method. (Special methods—methods whose name begins and ends with two underscores—are covered in Chapter 6.) All the built-in immutable data types, such as float, frozenset, int, str, and tuple, are hashable and can be added to sets. The built-in mutable data types, such as dict, list, and set, are not hashable since their hash value changes depending on the items they contain so they cannot be added to sets.\n"
   ]
  },
  {
   "cell_type": "markdown",
   "metadata": {},
   "source": [
    "## Sets"
   ]
  },
  {
   "cell_type": "markdown",
   "metadata": {},
   "source": [
    "* Set is an unordered collection of zeros or more object reference that refer to  hasable objects.\n",
    "* Sets are mutable, but they are unordered so they do not possess index postion. Therefore sets can not be slice or stride.\n",
    "* Sets can be created by using set() or by passing comma-separated values in the {} . \n",
    "\n"
   ]
  },
  {
   "cell_type": "markdown",
   "metadata": {},
   "source": [
    "* **Use Case 1**- **To Remove Duplicate items from list**\n",
    " * Set hold unique values. Therefore, it is ofetn used to remove duplicates in the sequence data types such as list and tuples.\n"
   ]
  },
  {
   "cell_type": "code",
   "execution_count": 151,
   "metadata": {},
   "outputs": [
    {
     "name": "stdout",
     "output_type": "stream",
     "text": [
      "{'trasngender', 'A', 'female', 'B', 'male'}\n",
      "[{'trasngender': 1}, {'A': 2}, {'female': 5}, {'B': 2}, {'male': 6}]\n"
     ]
    }
   ],
   "source": [
    "#Example\n",
    "Y = ['male', 'male', 'female', 'female', 'male', 'male', 'female', 'female', 'trasngender', 'A','A', 'B', 'B',\n",
    "     'female', 'male', 'male']\n",
    "\n",
    "# to get the unique collection of items\n",
    "Y1 = set(Y)\n",
    "print(Y1)\n",
    "\n",
    "Grnder_Count = [{i: Y.count(i)} for i in Y1]\n",
    "print(Grnder_Count)"
   ]
  },
  {
   "cell_type": "markdown",
   "metadata": {},
   "source": [
    "* **Use Case 2**- **To Eliminate Unwanted item form list**\n",
    "\n",
    " * Sets are also used to eliminate unwanted items. For example, if we have a list of filenames but don’t want any makefiles included (perhaps because they are generated rather than handwritten), we might write:\n"
   ]
  },
  {
   "cell_type": "markdown",
   "metadata": {},
   "source": [
    "## Set Methods and Operators"
   ]
  },
  {
   "cell_type": "markdown",
   "metadata": {},
   "source": [
    " *  s.**add**(x):Adds item x to set s if it is not already in s"
   ]
  },
  {
   "cell_type": "code",
   "execution_count": 152,
   "metadata": {},
   "outputs": [
    {
     "name": "stdout",
     "output_type": "stream",
     "text": [
      "{'trasngender', 'A', 'Gay', 'female', 'B', 'male'}\n"
     ]
    }
   ],
   "source": [
    "# Example-\n",
    "Gender = {'male', 'female', 'B', 'A', 'trasngender'}\n",
    "Gender.add('Gay')\n",
    "print(Gender)"
   ]
  },
  {
   "cell_type": "markdown",
   "metadata": {},
   "source": [
    " *  s.**clear**(): Removes all the items from set s"
   ]
  },
  {
   "cell_type": "code",
   "execution_count": 153,
   "metadata": {},
   "outputs": [
    {
     "name": "stdout",
     "output_type": "stream",
     "text": [
      "set()\n"
     ]
    }
   ],
   "source": [
    "# Example-\n",
    "Gender = {'male', 'female', 'B', 'A', 'trasngender'}\n",
    "Gender.clear()\n",
    "print(Gender)"
   ]
  },
  {
   "cell_type": "markdown",
   "metadata": {},
   "source": [
    " * s.**copy**() : #Returns a copy of s❄"
   ]
  },
  {
   "cell_type": "code",
   "execution_count": 154,
   "metadata": {},
   "outputs": [
    {
     "data": {
      "text/plain": [
       "{'A', 'B', 'female', 'male', 'trasngender'}"
      ]
     },
     "execution_count": 154,
     "metadata": {},
     "output_type": "execute_result"
    }
   ],
   "source": [
    "#Example-\n",
    "Gender = {'male', 'female', 'B', 'A', 'trasngender'}\n",
    "Gender.copy()"
   ]
  },
  {
   "cell_type": "markdown",
   "metadata": {},
   "source": [
    " * s.**difference**(t): Returns a new set that has every item that is in set t that is not in set Gender"
   ]
  },
  {
   "cell_type": "code",
   "execution_count": 155,
   "metadata": {},
   "outputs": [
    {
     "data": {
      "text/plain": [
       "{'Q', 'R', 'S'}"
      ]
     },
     "execution_count": 155,
     "metadata": {},
     "output_type": "execute_result"
    }
   ],
   "source": [
    "#Example-  \n",
    "t ={'male', 'female', 'B', 'A', 'trasngender','Q', 'R', 'S'}\n",
    "Gender = {'male', 'female', 'B', 'A', 'trasngender'}\n",
    "t.difference(Gender)\n"
   ]
  },
  {
   "cell_type": "markdown",
   "metadata": {},
   "source": [
    " * s.**discard**(x): It removes item x from the given set"
   ]
  },
  {
   "cell_type": "code",
   "execution_count": 156,
   "metadata": {},
   "outputs": [
    {
     "name": "stdout",
     "output_type": "stream",
     "text": [
      "{'trasngender', 'A', 'B', 'male'}\n"
     ]
    }
   ],
   "source": [
    "#Example- \n",
    "Gender = {'male', 'female', 'B', 'A', 'trasngender'}\n",
    "Gender.discard('female')\n",
    "print(Gender)"
   ]
  },
  {
   "cell_type": "markdown",
   "metadata": {},
   "source": [
    " * s.**intersection**(t): Returns a new set of common items present in both sets"
   ]
  },
  {
   "cell_type": "code",
   "execution_count": 157,
   "metadata": {},
   "outputs": [
    {
     "data": {
      "text/plain": [
       "{3, 4, 5, 6, 7}"
      ]
     },
     "execution_count": 157,
     "metadata": {},
     "output_type": "execute_result"
    }
   ],
   "source": [
    "# Example-\n",
    "A = {1,2,3,4,5,6,7,}\n",
    "B= {3,4,5,6,7,8,9,10}\n",
    "A.intersection(B)"
   ]
  },
  {
   "cell_type": "markdown",
   "metadata": {},
   "source": [
    " * s.**isdisjoint**(t) :Returns True if sets A and B have no items in common "
   ]
  },
  {
   "cell_type": "code",
   "execution_count": 158,
   "metadata": {},
   "outputs": [
    {
     "data": {
      "text/plain": [
       "False"
      ]
     },
     "execution_count": 158,
     "metadata": {},
     "output_type": "execute_result"
    }
   ],
   "source": [
    "# Example-\n",
    "A = {1,2,3,4,5,6,7,}\n",
    "B= {3,4,5,6,7,8,9,10}\n",
    "A.isdisjoint(B)"
   ]
  },
  {
   "cell_type": "markdown",
   "metadata": {},
   "source": [
    "## Set Comprehensions"
   ]
  },
  {
   "cell_type": "markdown",
   "metadata": {},
   "source": [
    "* Sets can also be created by using set comprehension.\n",
    "* It works same as list, the only difference is that it is an expression and a loop with an optimal condition enclosed in { } braces.\n",
    "* Like list it also supports two syntax:\n",
    "\n",
    "{expression for item in iterable}\n",
    "{expression for item in iterable if condition}\n"
   ]
  },
  {
   "cell_type": "code",
   "execution_count": 159,
   "metadata": {},
   "outputs": [
    {
     "name": "stdout",
     "output_type": "stream",
     "text": [
      "{0, 65, 35, 5, 70, 40, 10, 75, 45, 15, 80, 50, 20, 85, 55, 25, 90, 60, 30, 95}\n"
     ]
    }
   ],
   "source": [
    "# EXAMPLE2:\n",
    "# Get the list of all numbers divisible by 5 in the range of 100\n",
    "# this loop wil iterate over iterables (range(100)) and will return the list of numbers that are divisible by 5\n",
    "Res = {i for i in range(100) if i%5==0}\n",
    "print(Res)"
   ]
  },
  {
   "cell_type": "markdown",
   "metadata": {},
   "source": [
    "## Frozen Sets"
   ]
  },
  {
   "cell_type": "markdown",
   "metadata": {},
   "source": [
    "* Frozen set is just an immutable version of a set object. \n",
    "* While elements of a set can be modified at any time, elements of frozen set remains the same after creation.\n",
    "* As a result, frozen sets can be used as key in Dictionary or as element of another set.\n"
   ]
  },
  {
   "cell_type": "markdown",
   "metadata": {},
   "source": [
    "## Examples of frozen tuples-"
   ]
  },
  {
   "cell_type": "code",
   "execution_count": 160,
   "metadata": {},
   "outputs": [
    {
     "name": "stdout",
     "output_type": "stream",
     "text": [
      "The frozen set is: frozenset({'u', 'a', 'i', 'e', 'o'})\n",
      "The empty frozen set is: frozenset()\n"
     ]
    }
   ],
   "source": [
    "# tuple of vowels\n",
    "vowels = ('a', 'e', 'i', 'o', 'u')\n",
    "fSet = frozenset(vowels)\n",
    "print('The frozen set is:', fSet)\n",
    "print('The empty frozen set is:', frozenset()) #If no parameters are passed, it returns an empty frozenset."
   ]
  },
  {
   "cell_type": "code",
   "execution_count": 161,
   "metadata": {},
   "outputs": [
    {
     "name": "stdout",
     "output_type": "stream",
     "text": [
      "The frozen set is: frozenset({'age', 'name', 'sex'})\n"
     ]
    }
   ],
   "source": [
    "#When a  dictionary is used as an iterable for a frozen set. It only takes key of the dictionary to create the set.\n",
    "person = {\"name\": \"John\", \"age\": 23, \"sex\": \"male\"}\n",
    "fSet = frozenset(person)\n",
    "print('The frozen set is:', fSet)"
   ]
  },
  {
   "cell_type": "markdown",
   "metadata": {},
   "source": [
    "# Mapping Types"
   ]
  },
  {
   "cell_type": "markdown",
   "metadata": {},
   "source": [
    "Mappings are the collection of key and value items  and provide the method to retrieve the items and their keys & vales.  hen it is iterated unordered mapping types provide their items in an arbitrary order."
   ]
  },
  {
   "cell_type": "markdown",
   "metadata": {},
   "source": [
    "# Dictionaries"
   ]
  },
  {
   "cell_type": "markdown",
   "metadata": {},
   "source": [
    "* It is an unordered collection of key-value pair items enclosed in braces {}.\n",
    "* Dictionaries are mutable, so we caneasily add or remove items, \n",
    "* Since they are unordered they have no notion of index position and so cannot be sliced or strided\n",
    "* Dictionary keys should always be unique."
   ]
  },
  {
   "cell_type": "code",
   "execution_count": 162,
   "metadata": {},
   "outputs": [
    {
     "data": {
      "text/plain": [
       "18"
      ]
     },
     "execution_count": 162,
     "metadata": {},
     "output_type": "execute_result"
    }
   ],
   "source": [
    "#Example:\n",
    "\n",
    "d = {\"root\": 18, \"blue\": [75, \"R\", 2], 21: \"venus\", -14: None,\n",
    "\"mars\": \"rover\", (4, 11): 18, 0: 45}\n",
    "# To access dictionary items, keys are used:\n",
    "d[\"root\"]"
   ]
  },
  {
   "cell_type": "code",
   "execution_count": 163,
   "metadata": {},
   "outputs": [
    {
     "data": {
      "text/plain": [
       "'venus'"
      ]
     },
     "execution_count": 163,
     "metadata": {},
     "output_type": "execute_result"
    }
   ],
   "source": [
    "d[21]"
   ]
  },
  {
   "cell_type": "code",
   "execution_count": 164,
   "metadata": {},
   "outputs": [
    {
     "name": "stdout",
     "output_type": "stream",
     "text": [
      "{'root': 19, 'blue': [75, 'R', 2], 21: 'venus', -14: None, 'mars': 'rover', (4, 11): 18, 0: 45}\n"
     ]
    }
   ],
   "source": [
    "# Repalcing vales in dictonaries:\n",
    "d[\"root\"] = 19\n",
    "print(d)"
   ]
  },
  {
   "cell_type": "code",
   "execution_count": 165,
   "metadata": {},
   "outputs": [
    {
     "name": "stdout",
     "output_type": "stream",
     "text": [
      "{'root': 18, 'blue': [75, 'R', 2], 21: 'venus', 'mars': 'rover', (4, 11): 18, 0: 45}\n"
     ]
    },
    {
     "data": {
      "text/plain": [
       "6"
      ]
     },
     "execution_count": 165,
     "metadata": {},
     "output_type": "execute_result"
    }
   ],
   "source": [
    "# Remove items from dict SYNTAX - dict.pop()\n",
    "d = {\"root\": 18, \"blue\": [75, \"R\", 2], 21: \"venus\", -14: None,\n",
    "\"mars\": \"rover\", (4, 11): 18, 0: 45}\n",
    "d.pop(-14)\n",
    "print(d)\n",
    "len(d)"
   ]
  },
  {
   "cell_type": "markdown",
   "metadata": {},
   "source": [
    "# Dictionary Methods\n",
    "    "
   ]
  },
  {
   "cell_type": "markdown",
   "metadata": {},
   "source": [
    " * d.**copy**(): Removes all the items from dict"
   ]
  },
  {
   "cell_type": "code",
   "execution_count": 166,
   "metadata": {},
   "outputs": [
    {
     "name": "stdout",
     "output_type": "stream",
     "text": [
      "{}\n"
     ]
    }
   ],
   "source": [
    "#Example\n",
    "d = {\"root\": 18, \"blue\": [75, \"R\", 2], 21: \"venus\", -14: None,\n",
    "\"mars\": \"rover\", (4, 11): 18, 0: 45}\n",
    "# Removes all the items from dict\n",
    "d.clear()\n",
    "print(d)"
   ]
  },
  {
   "cell_type": "markdown",
   "metadata": {},
   "source": [
    " * d.**copy**(): Returns a copy of dict"
   ]
  },
  {
   "cell_type": "code",
   "execution_count": 167,
   "metadata": {},
   "outputs": [
    {
     "data": {
      "text/plain": [
       "{'root': 18,\n",
       " 'blue': [75, 'R', 2],\n",
       " 21: 'venus',\n",
       " -14: None,\n",
       " 'mars': 'rover',\n",
       " (4, 11): 18,\n",
       " 0: 45}"
      ]
     },
     "execution_count": 167,
     "metadata": {},
     "output_type": "execute_result"
    }
   ],
   "source": [
    "# Example\n",
    "# Returns a copy of dict\n",
    "d = {\"root\": 18, \"blue\": [75, \"R\", 2], 21: \"venus\", -14: None,\n",
    "\"mars\": \"rover\", (4, 11): 18, 0: 45}\n",
    "d.copy()"
   ]
  },
  {
   "cell_type": "markdown",
   "metadata": {},
   "source": [
    " * d.**get**(k): Returns key k’s associated value, or None if k isn’t in dict d"
   ]
  },
  {
   "cell_type": "code",
   "execution_count": 168,
   "metadata": {},
   "outputs": [
    {
     "data": {
      "text/plain": [
       "18"
      ]
     },
     "execution_count": 168,
     "metadata": {},
     "output_type": "execute_result"
    }
   ],
   "source": [
    "# Example\n",
    "d = {\"root\": 18, \"blue\": [75, \"R\", 2], 21: \"venus\", -14: None,\n",
    "\"mars\": \"rover\", (4, 11): 18, 0: 45}\n",
    "d.get(\"root\")"
   ]
  },
  {
   "cell_type": "markdown",
   "metadata": {},
   "source": [
    " * d.**items**(): Returns a view★ of all the (key, value) pairs in dict d"
   ]
  },
  {
   "cell_type": "code",
   "execution_count": 169,
   "metadata": {},
   "outputs": [
    {
     "data": {
      "text/plain": [
       "dict_items([('root', 18), ('blue', [75, 'R', 2]), (21, 'venus'), (-14, None), ('mars', 'rover'), ((4, 11), 18), (0, 45)])"
      ]
     },
     "execution_count": 169,
     "metadata": {},
     "output_type": "execute_result"
    }
   ],
   "source": [
    "#Example\n",
    "d = {\"root\": 18, \"blue\": [75, \"R\", 2], 21: \"venus\", -14: None,\n",
    "\"mars\": \"rover\", (4, 11): 18, 0: 45}\n",
    "d.items()"
   ]
  },
  {
   "cell_type": "markdown",
   "metadata": {},
   "source": [
    " * d.**keys**(): Returns the view of all the keys present in the dict"
   ]
  },
  {
   "cell_type": "code",
   "execution_count": 170,
   "metadata": {},
   "outputs": [
    {
     "data": {
      "text/plain": [
       "dict_keys(['root', 'blue', 21, -14, 'mars', (4, 11), 0])"
      ]
     },
     "execution_count": 170,
     "metadata": {},
     "output_type": "execute_result"
    }
   ],
   "source": [
    "# Example\n",
    "d = {\"root\": 18, \"blue\": [75, \"R\", 2], 21: \"venus\", -14: None,\n",
    "\"mars\": \"rover\", (4, 11): 18, 0: 45}\n",
    "d.keys()"
   ]
  },
  {
   "cell_type": "markdown",
   "metadata": {},
   "source": [
    " * d.**values**(): Returns the view of all values in the dict"
   ]
  },
  {
   "cell_type": "code",
   "execution_count": 171,
   "metadata": {},
   "outputs": [
    {
     "data": {
      "text/plain": [
       "dict_values([18, [75, 'R', 2], 'venus', None, 'rover', 18, 45])"
      ]
     },
     "execution_count": 171,
     "metadata": {},
     "output_type": "execute_result"
    }
   ],
   "source": [
    "# Example  \n",
    "d = {\"root\": 18, \"blue\": [75, \"R\", 2], 21: \"venus\", -14: None,\n",
    "\"mars\": \"rover\", (4, 11): 18, 0: 45}\n",
    "d.values()"
   ]
  },
  {
   "cell_type": "markdown",
   "metadata": {},
   "source": [
    "# Dictionary Comprehensions\n"
   ]
  },
  {
   "cell_type": "markdown",
   "metadata": {},
   "source": [
    "Dictionary Comprehension is an expression and a loop with optimal conditons enclosed withing braces {}.Like list and set comprehension it supports two syntaxes:\n",
    "\n",
    "        {keyexpression: valueexpression for key, value in iterable}\n",
    "        \n",
    "        {keyexpression: valueexpression for key, value in iterable if condition}"
   ]
  },
  {
   "cell_type": "code",
   "execution_count": 172,
   "metadata": {},
   "outputs": [
    {
     "name": "stdout",
     "output_type": "stream",
     "text": [
      "{0: 0, 1: 1, 2: 4, 3: 9, 4: 16, 5: 25, 6: 36, 7: 49, 8: 64, 9: 81}\n",
      "<class 'dict'>\n"
     ]
    }
   ],
   "source": [
    "# Example:\n",
    "# Create a dictornary of squared values and keys with in the range of 10\n",
    "dict = {i:i**2 for i in range(10)}   #i:i**2 represents (key:value)\n",
    "print(dict)\n",
    "print(type(dict))"
   ]
  },
  {
   "cell_type": "markdown",
   "metadata": {},
   "source": [
    "# Default Dictionaries\n"
   ]
  },
  {
   "cell_type": "markdown",
   "metadata": {},
   "source": [
    "The only difference between dict and default dict is in the way it handles missing keys, in all other repects it behaves identically to dict. For example while retrieving dict, when we  use a non-existent (missing key) it throws a KeyError. For example, if we have a dictionary d which does not have an item with key m, the code x = d[m] will raise a KeyError exception. But if d is a suitably created default dictionary, if an item with key m is in the default dictionary, the corresponding value is returned the same as for a dictionary—but if m is not a\n",
    "key in the default dictionary, a new item with key m is created with a default value, and the newly created item’s value is returned."
   ]
  },
  {
   "cell_type": "code",
   "execution_count": 173,
   "metadata": {},
   "outputs": [
    {
     "data": {
      "text/plain": [
       "18"
      ]
     },
     "execution_count": 173,
     "metadata": {},
     "output_type": "execute_result"
    }
   ],
   "source": [
    "#For example\n",
    "\n",
    "dict = {\"root\": 18, \"blue\": [75, \"R\", 2], 21: \"venus\", -14: None,\n",
    "\"mars\": \"rover\", (4, 11): 18, 0: 45}\n",
    "dict[\"root\"]\n"
   ]
  },
  {
   "cell_type": "code",
   "execution_count": 174,
   "metadata": {},
   "outputs": [
    {
     "ename": "KeyError",
     "evalue": "'branch'",
     "output_type": "error",
     "traceback": [
      "\u001b[1;31m---------------------------------------------------------------------------\u001b[0m",
      "\u001b[1;31mKeyError\u001b[0m                                  Traceback (most recent call last)",
      "\u001b[1;32m<ipython-input-174-aefdc1c2a267>\u001b[0m in \u001b[0;36m<module>\u001b[1;34m\u001b[0m\n\u001b[0;32m      1\u001b[0m \u001b[1;31m# Suppose if we look for key that is not present in the dictionary. It will throw a KeyError\u001b[0m\u001b[1;33m\u001b[0m\u001b[1;33m\u001b[0m\u001b[0m\n\u001b[1;32m----> 2\u001b[1;33m \u001b[0mdict\u001b[0m\u001b[1;33m[\u001b[0m\u001b[1;34m\"branch\"\u001b[0m\u001b[1;33m]\u001b[0m\u001b[1;33m\u001b[0m\u001b[0m\n\u001b[0m",
      "\u001b[1;31mKeyError\u001b[0m: 'branch'"
     ]
    }
   ],
   "source": [
    "# Suppose if we look for key that is not present in the dictionary. It will throw a KeyError\n",
    "dict[\"branch\"]"
   ]
  },
  {
   "cell_type": "code",
   "execution_count": null,
   "metadata": {},
   "outputs": [],
   "source": [
    "# if we creat a default dictionary it won't generate error even if a key is missing in the dict.\n",
    "dict = {\"root\": 18, \"blue\": [75, \"R\", 2], 21: \"venus\", -14: None,\n",
    "\"mars\": \"rover\", (4, 11): 18, 0: 45}\n",
    "import collections\n",
    "dict =collections.defaultdict(int)\n",
    "dict[\"branch\"]\n"
   ]
  },
  {
   "cell_type": "markdown",
   "metadata": {},
   "source": [
    "# Ordered Dictionary\n",
    "\n",
    "It is a dictionary subclass that remembers the order in which its contents are added, supporting the usual dict methods. For example, If a new entry overwrites an existing entry, the original insertion position is left unchanged. Deleting an entry and reinserting it will move it to the end."
   ]
  },
  {
   "cell_type": "code",
   "execution_count": null,
   "metadata": {},
   "outputs": [],
   "source": [
    "# Unordered Dictionary:\n",
    "d = {\"root\": 18, \"blue\": [75, \"R\", 2], 21: \"venus\", -14: None,\n",
    "\"mars\": \"rover\", (4, 11): 18, 0: 45}\n",
    "for k,v in d.items():\n",
    "    print (k,v)"
   ]
  },
  {
   "cell_type": "code",
   "execution_count": null,
   "metadata": {},
   "outputs": [],
   "source": [
    "# Ordered dictionary:\n",
    "dict = collections.OrderedDict()\n",
    "dict = {1:2,3:4,5:6,6:7,66:77}\n",
    "dict.items()"
   ]
  },
  {
   "cell_type": "code",
   "execution_count": null,
   "metadata": {},
   "outputs": [],
   "source": [
    "dict[1]=2\n",
    "dict[3]=4\n",
    "dict[5]=6\n",
    "dict[6]=7\n",
    "dict[66]=77\n",
    "dict.items()"
   ]
  },
  {
   "cell_type": "markdown",
   "metadata": {},
   "source": [
    "Thats how I complete my notebook for python data types and hope it helps  you to get an understanding of basic and collection data types and its usages."
   ]
  },
  {
   "cell_type": "code",
   "execution_count": null,
   "metadata": {},
   "outputs": [],
   "source": []
  }
 ],
 "metadata": {
  "kernelspec": {
   "display_name": "Python 3",
   "language": "python",
   "name": "python3"
  },
  "language_info": {
   "codemirror_mode": {
    "name": "ipython",
    "version": 3
   },
   "file_extension": ".py",
   "mimetype": "text/x-python",
   "name": "python",
   "nbconvert_exporter": "python",
   "pygments_lexer": "ipython3",
   "version": "3.6.5"
  },
  "toc": {
   "base_numbering": 1,
   "nav_menu": {},
   "number_sections": true,
   "sideBar": true,
   "skip_h1_title": false,
   "title_cell": "Table of Contents",
   "title_sidebar": "Contents",
   "toc_cell": false,
   "toc_position": {
    "height": "calc(100% - 180px)",
    "left": "10px",
    "top": "150px",
    "width": "329.188px"
   },
   "toc_section_display": true,
   "toc_window_display": true
  }
 },
 "nbformat": 4,
 "nbformat_minor": 2
}
